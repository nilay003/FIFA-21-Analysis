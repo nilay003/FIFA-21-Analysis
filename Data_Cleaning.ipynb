{
 "cells": [
  {
   "cell_type": "code",
   "execution_count": 244,
   "metadata": {},
   "outputs": [],
   "source": [
    "import numpy as np\n",
    "import pandas as pd"
   ]
  },
  {
   "cell_type": "markdown",
   "metadata": {},
   "source": [
    "Import necessary libraries"
   ]
  },
  {
   "cell_type": "code",
   "execution_count": 245,
   "metadata": {},
   "outputs": [
    {
     "name": "stderr",
     "output_type": "stream",
     "text": [
      "C:\\Users\\nilay\\AppData\\Local\\Temp\\ipykernel_10424\\3111093550.py:1: DtypeWarning: Columns (76) have mixed types. Specify dtype option on import or set low_memory=False.\n",
      "  df =pd.read_csv('D:/BI final/fifa 21.csv')\n"
     ]
    },
    {
     "data": {
      "text/html": [
       "<div>\n",
       "<style scoped>\n",
       "    .dataframe tbody tr th:only-of-type {\n",
       "        vertical-align: middle;\n",
       "    }\n",
       "\n",
       "    .dataframe tbody tr th {\n",
       "        vertical-align: top;\n",
       "    }\n",
       "\n",
       "    .dataframe thead th {\n",
       "        text-align: right;\n",
       "    }\n",
       "</style>\n",
       "<table border=\"1\" class=\"dataframe\">\n",
       "  <thead>\n",
       "    <tr style=\"text-align: right;\">\n",
       "      <th></th>\n",
       "      <th>ID</th>\n",
       "      <th>Name</th>\n",
       "      <th>LongName</th>\n",
       "      <th>photoUrl</th>\n",
       "      <th>playerUrl</th>\n",
       "      <th>Nationality</th>\n",
       "      <th>Age</th>\n",
       "      <th>↓OVA</th>\n",
       "      <th>POT</th>\n",
       "      <th>Club</th>\n",
       "      <th>...</th>\n",
       "      <th>A/W</th>\n",
       "      <th>D/W</th>\n",
       "      <th>IR</th>\n",
       "      <th>PAC</th>\n",
       "      <th>SHO</th>\n",
       "      <th>PAS</th>\n",
       "      <th>DRI</th>\n",
       "      <th>DEF</th>\n",
       "      <th>PHY</th>\n",
       "      <th>Hits</th>\n",
       "    </tr>\n",
       "  </thead>\n",
       "  <tbody>\n",
       "    <tr>\n",
       "      <th>0</th>\n",
       "      <td>158023</td>\n",
       "      <td>L. Messi</td>\n",
       "      <td>Lionel Messi</td>\n",
       "      <td>https://cdn.sofifa.com/players/158/023/21_60.png</td>\n",
       "      <td>http://sofifa.com/player/158023/lionel-messi/2...</td>\n",
       "      <td>Argentina</td>\n",
       "      <td>33</td>\n",
       "      <td>93</td>\n",
       "      <td>93</td>\n",
       "      <td>\\n\\n\\n\\nFC Barcelona</td>\n",
       "      <td>...</td>\n",
       "      <td>Medium</td>\n",
       "      <td>Low</td>\n",
       "      <td>5 ★</td>\n",
       "      <td>85</td>\n",
       "      <td>92</td>\n",
       "      <td>91</td>\n",
       "      <td>95</td>\n",
       "      <td>38</td>\n",
       "      <td>65</td>\n",
       "      <td>771</td>\n",
       "    </tr>\n",
       "    <tr>\n",
       "      <th>1</th>\n",
       "      <td>20801</td>\n",
       "      <td>Cristiano Ronaldo</td>\n",
       "      <td>C. Ronaldo dos Santos Aveiro</td>\n",
       "      <td>https://cdn.sofifa.com/players/020/801/21_60.png</td>\n",
       "      <td>http://sofifa.com/player/20801/c-ronaldo-dos-s...</td>\n",
       "      <td>Portugal</td>\n",
       "      <td>35</td>\n",
       "      <td>92</td>\n",
       "      <td>92</td>\n",
       "      <td>\\n\\n\\n\\nJuventus</td>\n",
       "      <td>...</td>\n",
       "      <td>High</td>\n",
       "      <td>Low</td>\n",
       "      <td>5 ★</td>\n",
       "      <td>89</td>\n",
       "      <td>93</td>\n",
       "      <td>81</td>\n",
       "      <td>89</td>\n",
       "      <td>35</td>\n",
       "      <td>77</td>\n",
       "      <td>562</td>\n",
       "    </tr>\n",
       "    <tr>\n",
       "      <th>2</th>\n",
       "      <td>200389</td>\n",
       "      <td>J. Oblak</td>\n",
       "      <td>Jan Oblak</td>\n",
       "      <td>https://cdn.sofifa.com/players/200/389/21_60.png</td>\n",
       "      <td>http://sofifa.com/player/200389/jan-oblak/210006/</td>\n",
       "      <td>Slovenia</td>\n",
       "      <td>27</td>\n",
       "      <td>91</td>\n",
       "      <td>93</td>\n",
       "      <td>\\n\\n\\n\\nAtlético Madrid</td>\n",
       "      <td>...</td>\n",
       "      <td>Medium</td>\n",
       "      <td>Medium</td>\n",
       "      <td>3 ★</td>\n",
       "      <td>87</td>\n",
       "      <td>92</td>\n",
       "      <td>78</td>\n",
       "      <td>90</td>\n",
       "      <td>52</td>\n",
       "      <td>90</td>\n",
       "      <td>150</td>\n",
       "    </tr>\n",
       "    <tr>\n",
       "      <th>3</th>\n",
       "      <td>192985</td>\n",
       "      <td>K. De Bruyne</td>\n",
       "      <td>Kevin De Bruyne</td>\n",
       "      <td>https://cdn.sofifa.com/players/192/985/21_60.png</td>\n",
       "      <td>http://sofifa.com/player/192985/kevin-de-bruyn...</td>\n",
       "      <td>Belgium</td>\n",
       "      <td>29</td>\n",
       "      <td>91</td>\n",
       "      <td>91</td>\n",
       "      <td>\\n\\n\\n\\nManchester City</td>\n",
       "      <td>...</td>\n",
       "      <td>High</td>\n",
       "      <td>High</td>\n",
       "      <td>4 ★</td>\n",
       "      <td>76</td>\n",
       "      <td>86</td>\n",
       "      <td>93</td>\n",
       "      <td>88</td>\n",
       "      <td>64</td>\n",
       "      <td>78</td>\n",
       "      <td>207</td>\n",
       "    </tr>\n",
       "    <tr>\n",
       "      <th>4</th>\n",
       "      <td>190871</td>\n",
       "      <td>Neymar Jr</td>\n",
       "      <td>Neymar da Silva Santos Jr.</td>\n",
       "      <td>https://cdn.sofifa.com/players/190/871/21_60.png</td>\n",
       "      <td>http://sofifa.com/player/190871/neymar-da-silv...</td>\n",
       "      <td>Brazil</td>\n",
       "      <td>28</td>\n",
       "      <td>91</td>\n",
       "      <td>91</td>\n",
       "      <td>\\n\\n\\n\\nParis Saint-Germain</td>\n",
       "      <td>...</td>\n",
       "      <td>High</td>\n",
       "      <td>Medium</td>\n",
       "      <td>5 ★</td>\n",
       "      <td>91</td>\n",
       "      <td>85</td>\n",
       "      <td>86</td>\n",
       "      <td>94</td>\n",
       "      <td>36</td>\n",
       "      <td>59</td>\n",
       "      <td>595</td>\n",
       "    </tr>\n",
       "  </tbody>\n",
       "</table>\n",
       "<p>5 rows × 77 columns</p>\n",
       "</div>"
      ],
      "text/plain": [
       "       ID               Name                      LongName  \\\n",
       "0  158023           L. Messi                  Lionel Messi   \n",
       "1   20801  Cristiano Ronaldo  C. Ronaldo dos Santos Aveiro   \n",
       "2  200389           J. Oblak                     Jan Oblak   \n",
       "3  192985       K. De Bruyne               Kevin De Bruyne   \n",
       "4  190871          Neymar Jr    Neymar da Silva Santos Jr.   \n",
       "\n",
       "                                           photoUrl  \\\n",
       "0  https://cdn.sofifa.com/players/158/023/21_60.png   \n",
       "1  https://cdn.sofifa.com/players/020/801/21_60.png   \n",
       "2  https://cdn.sofifa.com/players/200/389/21_60.png   \n",
       "3  https://cdn.sofifa.com/players/192/985/21_60.png   \n",
       "4  https://cdn.sofifa.com/players/190/871/21_60.png   \n",
       "\n",
       "                                           playerUrl Nationality  Age  ↓OVA  \\\n",
       "0  http://sofifa.com/player/158023/lionel-messi/2...   Argentina   33    93   \n",
       "1  http://sofifa.com/player/20801/c-ronaldo-dos-s...    Portugal   35    92   \n",
       "2  http://sofifa.com/player/200389/jan-oblak/210006/    Slovenia   27    91   \n",
       "3  http://sofifa.com/player/192985/kevin-de-bruyn...     Belgium   29    91   \n",
       "4  http://sofifa.com/player/190871/neymar-da-silv...      Brazil   28    91   \n",
       "\n",
       "   POT                         Club  ...     A/W     D/W   IR PAC SHO  PAS  \\\n",
       "0   93         \\n\\n\\n\\nFC Barcelona  ...  Medium     Low  5 ★  85  92   91   \n",
       "1   92             \\n\\n\\n\\nJuventus  ...    High     Low  5 ★  89  93   81   \n",
       "2   93      \\n\\n\\n\\nAtlético Madrid  ...  Medium  Medium  3 ★  87  92   78   \n",
       "3   91      \\n\\n\\n\\nManchester City  ...    High    High  4 ★  76  86   93   \n",
       "4   91  \\n\\n\\n\\nParis Saint-Germain  ...    High  Medium  5 ★  91  85   86   \n",
       "\n",
       "  DRI DEF PHY Hits  \n",
       "0  95  38  65  771  \n",
       "1  89  35  77  562  \n",
       "2  90  52  90  150  \n",
       "3  88  64  78  207  \n",
       "4  94  36  59  595  \n",
       "\n",
       "[5 rows x 77 columns]"
      ]
     },
     "execution_count": 245,
     "metadata": {},
     "output_type": "execute_result"
    }
   ],
   "source": [
    "df =pd.read_csv('D:/BI final/fifa 21.csv')\n",
    "df.head(5)"
   ]
  },
  {
   "cell_type": "markdown",
   "metadata": {},
   "source": [
    "Read CSV file into a DataFrame"
   ]
  },
  {
   "cell_type": "code",
   "execution_count": 246,
   "metadata": {},
   "outputs": [
    {
     "name": "stdout",
     "output_type": "stream",
     "text": [
      "<class 'pandas.core.frame.DataFrame'>\n",
      "RangeIndex: 18979 entries, 0 to 18978\n",
      "Data columns (total 77 columns):\n",
      " #   Column            Non-Null Count  Dtype \n",
      "---  ------            --------------  ----- \n",
      " 0   ID                18979 non-null  int64 \n",
      " 1   Name              18979 non-null  object\n",
      " 2   LongName          18979 non-null  object\n",
      " 3   photoUrl          18979 non-null  object\n",
      " 4   playerUrl         18979 non-null  object\n",
      " 5   Nationality       18979 non-null  object\n",
      " 6   Age               18979 non-null  int64 \n",
      " 7   ↓OVA              18979 non-null  int64 \n",
      " 8   POT               18979 non-null  int64 \n",
      " 9   Club              18979 non-null  object\n",
      " 10  Contract          18979 non-null  object\n",
      " 11  Positions         18979 non-null  object\n",
      " 12  Height            18979 non-null  object\n",
      " 13  Weight            18979 non-null  object\n",
      " 14  Preferred Foot    18979 non-null  object\n",
      " 15  BOV               18979 non-null  int64 \n",
      " 16  Best Position     18979 non-null  object\n",
      " 17  Joined            18979 non-null  object\n",
      " 18  Loan Date End     1013 non-null   object\n",
      " 19  Value             18979 non-null  object\n",
      " 20  Wage              18979 non-null  object\n",
      " 21  Release Clause    18979 non-null  object\n",
      " 22  Attacking         18979 non-null  int64 \n",
      " 23  Crossing          18979 non-null  int64 \n",
      " 24  Finishing         18979 non-null  int64 \n",
      " 25  Heading Accuracy  18979 non-null  int64 \n",
      " 26  Short Passing     18979 non-null  int64 \n",
      " 27  Volleys           18979 non-null  int64 \n",
      " 28  Skill             18979 non-null  int64 \n",
      " 29  Dribbling         18979 non-null  int64 \n",
      " 30  Curve             18979 non-null  int64 \n",
      " 31  FK Accuracy       18979 non-null  int64 \n",
      " 32  Long Passing      18979 non-null  int64 \n",
      " 33  Ball Control      18979 non-null  int64 \n",
      " 34  Movement          18979 non-null  int64 \n",
      " 35  Acceleration      18979 non-null  int64 \n",
      " 36  Sprint Speed      18979 non-null  int64 \n",
      " 37  Agility           18979 non-null  int64 \n",
      " 38  Reactions         18979 non-null  int64 \n",
      " 39  Balance           18979 non-null  int64 \n",
      " 40  Power             18979 non-null  int64 \n",
      " 41  Shot Power        18979 non-null  int64 \n",
      " 42  Jumping           18979 non-null  int64 \n",
      " 43  Stamina           18979 non-null  int64 \n",
      " 44  Strength          18979 non-null  int64 \n",
      " 45  Long Shots        18979 non-null  int64 \n",
      " 46  Mentality         18979 non-null  int64 \n",
      " 47  Aggression        18979 non-null  int64 \n",
      " 48  Interceptions     18979 non-null  int64 \n",
      " 49  Positioning       18979 non-null  int64 \n",
      " 50  Vision            18979 non-null  int64 \n",
      " 51  Penalties         18979 non-null  int64 \n",
      " 52  Composure         18979 non-null  int64 \n",
      " 53  Defending         18979 non-null  int64 \n",
      " 54  Marking           18979 non-null  int64 \n",
      " 55  Standing Tackle   18979 non-null  int64 \n",
      " 56  Sliding Tackle    18979 non-null  int64 \n",
      " 57  Goalkeeping       18979 non-null  int64 \n",
      " 58  GK Diving         18979 non-null  int64 \n",
      " 59  GK Handling       18979 non-null  int64 \n",
      " 60  GK Kicking        18979 non-null  int64 \n",
      " 61  GK Positioning    18979 non-null  int64 \n",
      " 62  GK Reflexes       18979 non-null  int64 \n",
      " 63  Total Stats       18979 non-null  int64 \n",
      " 64  Base Stats        18979 non-null  int64 \n",
      " 65  W/F               18979 non-null  object\n",
      " 66  SM                18979 non-null  object\n",
      " 67  A/W               18979 non-null  object\n",
      " 68  D/W               18979 non-null  object\n",
      " 69  IR                18979 non-null  object\n",
      " 70  PAC               18979 non-null  int64 \n",
      " 71  SHO               18979 non-null  int64 \n",
      " 72  PAS               18979 non-null  int64 \n",
      " 73  DRI               18979 non-null  int64 \n",
      " 74  DEF               18979 non-null  int64 \n",
      " 75  PHY               18979 non-null  int64 \n",
      " 76  Hits              16384 non-null  object\n",
      "dtypes: int64(54), object(23)\n",
      "memory usage: 11.1+ MB\n"
     ]
    }
   ],
   "source": [
    "df.info()"
   ]
  },
  {
   "cell_type": "markdown",
   "metadata": {},
   "source": [
    "Get information about the DataFrame columns\n"
   ]
  },
  {
   "cell_type": "markdown",
   "metadata": {},
   "source": [
    "_____________________________________________________________________________________________________________________________________________________________________________________________________________________________________________________"
   ]
  },
  {
   "cell_type": "markdown",
   "metadata": {},
   "source": [
    "# Q1 Convert the height and weight columns to numerical forms"
   ]
  },
  {
   "cell_type": "code",
   "execution_count": 247,
   "metadata": {},
   "outputs": [
    {
     "data": {
      "text/plain": [
       "Height\n",
       "180cm    1474\n",
       "178cm    1250\n",
       "185cm    1182\n",
       "183cm    1148\n",
       "175cm    1091\n",
       "         ... \n",
       "6'5\"        1\n",
       "157cm       1\n",
       "5'4\"        1\n",
       "5'6\"        1\n",
       "155cm       1\n",
       "Name: count, Length: 62, dtype: int64"
      ]
     },
     "execution_count": 247,
     "metadata": {},
     "output_type": "execute_result"
    }
   ],
   "source": [
    "df.Height.value_counts()"
   ]
  },
  {
   "cell_type": "markdown",
   "metadata": {},
   "source": [
    "Cheking for Unique values in Height"
   ]
  },
  {
   "cell_type": "code",
   "execution_count": 248,
   "metadata": {},
   "outputs": [],
   "source": [
    "def convert_height(height):\n",
    "    if 'cm' in height:\n",
    "        return int(height.replace('cm', ''))\n",
    "    elif \"'\" in height:\n",
    "        parts = height.split(\"'\")\n",
    "        feet_to_cm = int(parts[0]) * 30.48  # Convert feet to cm\n",
    "        inches_to_cm = int(parts[1].replace('\"', '')) * 2.54  # Convert inches to cm\n",
    "        return feet_to_cm + inches_to_cm\n",
    "    else:\n",
    "        return 0"
   ]
  },
  {
   "cell_type": "markdown",
   "metadata": {},
   "source": [
    "Function to convert various height formats to centimeters"
   ]
  },
  {
   "cell_type": "code",
   "execution_count": 249,
   "metadata": {},
   "outputs": [],
   "source": [
    "df['Height'] = df['Height'].apply(convert_height)"
   ]
  },
  {
   "cell_type": "markdown",
   "metadata": {},
   "source": [
    " Apply the height conversion function to the 'Height' column"
   ]
  },
  {
   "cell_type": "code",
   "execution_count": 250,
   "metadata": {},
   "outputs": [
    {
     "name": "stdout",
     "output_type": "stream",
     "text": [
      "0    170\n",
      "1    187\n",
      "2    188\n",
      "3    181\n",
      "4    175\n",
      "Name: Height, dtype: int32\n"
     ]
    }
   ],
   "source": [
    "df['Height'] = df['Height'].astype(int)\n",
    "print(df['Height'].head())"
   ]
  },
  {
   "cell_type": "markdown",
   "metadata": {},
   "source": [
    "Convert the 'Height' column to integers"
   ]
  },
  {
   "cell_type": "code",
   "execution_count": 251,
   "metadata": {},
   "outputs": [
    {
     "data": {
      "text/plain": [
       "Weight\n",
       "70kg      1495\n",
       "75kg      1457\n",
       "80kg      1108\n",
       "72kg      1022\n",
       "78kg       991\n",
       "          ... \n",
       "190lbs       1\n",
       "130lbs       1\n",
       "146lbs       1\n",
       "203lbs       1\n",
       "157lbs       1\n",
       "Name: count, Length: 79, dtype: int64"
      ]
     },
     "execution_count": 251,
     "metadata": {},
     "output_type": "execute_result"
    }
   ],
   "source": [
    "df.Weight.value_counts()"
   ]
  },
  {
   "cell_type": "markdown",
   "metadata": {},
   "source": [
    "Cheking for Unique values in Weight"
   ]
  },
  {
   "cell_type": "code",
   "execution_count": 252,
   "metadata": {},
   "outputs": [],
   "source": [
    "def convert_weight(weight):\n",
    "    if 'kg' in weight:\n",
    "        return int(weight.replace('kg', ''))\n",
    "    elif \"lbs\" in weight:\n",
    "        return int(weight.replace('lbs', '')) * 0.453\n",
    "    else:\n",
    "        return 0 "
   ]
  },
  {
   "cell_type": "markdown",
   "metadata": {},
   "source": [
    "Function to convert various weight formats to kilograms"
   ]
  },
  {
   "cell_type": "code",
   "execution_count": 253,
   "metadata": {},
   "outputs": [],
   "source": [
    "df['Weight'] = df['Weight'].apply(convert_weight)"
   ]
  },
  {
   "cell_type": "markdown",
   "metadata": {},
   "source": [
    "Apply the weight conversion function to the 'Weight' column"
   ]
  },
  {
   "cell_type": "code",
   "execution_count": 254,
   "metadata": {},
   "outputs": [
    {
     "name": "stdout",
     "output_type": "stream",
     "text": [
      "0    72\n",
      "1    83\n",
      "2    87\n",
      "3    70\n",
      "4    68\n",
      "Name: Weight, dtype: int32\n"
     ]
    }
   ],
   "source": [
    "df['Weight'] = df['Weight'].astype(int)\n",
    "print(df['Weight'].head())\n"
   ]
  },
  {
   "cell_type": "markdown",
   "metadata": {},
   "source": [
    "Convert the 'Weight' column to integers"
   ]
  },
  {
   "cell_type": "code",
   "execution_count": 255,
   "metadata": {},
   "outputs": [
    {
     "data": {
      "text/plain": [
       "Weight\n",
       "70     1495\n",
       "75     1457\n",
       "80     1108\n",
       "72     1026\n",
       "78      992\n",
       "74      958\n",
       "73      955\n",
       "77      897\n",
       "76      880\n",
       "68      795\n",
       "79      684\n",
       "71      648\n",
       "82      623\n",
       "69      566\n",
       "65      535\n",
       "81      525\n",
       "83      513\n",
       "67      508\n",
       "84      443\n",
       "85      423\n",
       "66      401\n",
       "64      341\n",
       "86      286\n",
       "88      268\n",
       "63      238\n",
       "87      223\n",
       "62      182\n",
       "90      156\n",
       "60      153\n",
       "89      126\n",
       "61       96\n",
       "91       88\n",
       "92       67\n",
       "93       52\n",
       "58       45\n",
       "59       40\n",
       "94       34\n",
       "95       30\n",
       "57       19\n",
       "55       17\n",
       "96       15\n",
       "98       13\n",
       "56       12\n",
       "97        9\n",
       "100       8\n",
       "54        5\n",
       "103       4\n",
       "102       4\n",
       "101       4\n",
       "99        3\n",
       "104       3\n",
       "52        2\n",
       "107       1\n",
       "110       1\n",
       "53        1\n",
       "50        1\n",
       "Name: count, dtype: int64"
      ]
     },
     "execution_count": 255,
     "metadata": {},
     "output_type": "execute_result"
    }
   ],
   "source": [
    "df.Weight.value_counts()"
   ]
  },
  {
   "cell_type": "markdown",
   "metadata": {},
   "source": [
    "_____________________________________________________________________________________________________________________________________________________________________________________________________________________________________________________"
   ]
  },
  {
   "cell_type": "markdown",
   "metadata": {},
   "source": [
    "# Q2 Remove the unnecessary newline characters from all columns that have them. "
   ]
  },
  {
   "cell_type": "code",
   "execution_count": 256,
   "metadata": {},
   "outputs": [
    {
     "name": "stdout",
     "output_type": "stream",
     "text": [
      "Column 'Club' has newline characters.\n"
     ]
    }
   ],
   "source": [
    "for column in df.columns:\n",
    "    has_newline = any(df[column].astype(str).str.contains('\\n'))\n",
    "    if has_newline:\n",
    "        print(f\"Column '{column}' has newline characters.\")\n"
   ]
  },
  {
   "cell_type": "markdown",
   "metadata": {},
   "source": [
    "Check for newline characters in each column and print the column names if found"
   ]
  },
  {
   "cell_type": "code",
   "execution_count": 257,
   "metadata": {},
   "outputs": [],
   "source": [
    "df['Club'] = df['Club'].replace('\\n', '', regex=True)\n"
   ]
  },
  {
   "cell_type": "markdown",
   "metadata": {},
   "source": [
    "Remove new line characters from all columns"
   ]
  },
  {
   "cell_type": "code",
   "execution_count": 258,
   "metadata": {},
   "outputs": [
    {
     "name": "stdout",
     "output_type": "stream",
     "text": [
      "0           FC Barcelona\n",
      "1               Juventus\n",
      "2        Atlético Madrid\n",
      "3        Manchester City\n",
      "4    Paris Saint-Germain\n",
      "Name: Club, dtype: object\n"
     ]
    }
   ],
   "source": [
    "print(df.Club.head())"
   ]
  },
  {
   "cell_type": "markdown",
   "metadata": {},
   "source": [
    "_____________________________________________________________________________________________________________________________________________________________________________________________________________________________________________________"
   ]
  },
  {
   "cell_type": "markdown",
   "metadata": {},
   "source": [
    "# Q3 . 'Value', 'Wage' and \"Release Clause' are string columns. Convert them to numbers. For eg, \"M\" in value column is Million, so multiply the row values by 1,000,000, etc."
   ]
  },
  {
   "cell_type": "code",
   "execution_count": 259,
   "metadata": {},
   "outputs": [
    {
     "name": "stdout",
     "output_type": "stream",
     "text": [
      "Value\n",
      "€1.2M     582\n",
      "€1.1M     559\n",
      "€1.3M     534\n",
      "€1.6M     532\n",
      "€1M       497\n",
      "         ... \n",
      "€99M        1\n",
      "€121M       1\n",
      "€71.5M      1\n",
      "€57M        1\n",
      "€9K         1\n",
      "Name: count, Length: 255, dtype: int64\n",
      "Wage\n",
      "€2K      2899\n",
      "€500     2042\n",
      "€1K      1891\n",
      "€3K      1823\n",
      "€4K      1050\n",
      "         ... \n",
      "€270K       2\n",
      "€370K       1\n",
      "€290K       1\n",
      "€88K        1\n",
      "€560K       1\n",
      "Name: count, Length: 134, dtype: int64\n",
      "Release Clause\n",
      "€0        1261\n",
      "€1.1M      609\n",
      "€1.2M      504\n",
      "€1.3M      443\n",
      "€1.4M      385\n",
      "          ... \n",
      "€46.4M       1\n",
      "€36.3M       1\n",
      "€39.5M       1\n",
      "€49.8M       1\n",
      "€64K         1\n",
      "Name: count, Length: 1216, dtype: int64\n"
     ]
    }
   ],
   "source": [
    "print(df.Value.value_counts())\n",
    "print(df.Wage.value_counts())\n",
    "release_clause_counts = df['Release Clause'].value_counts()\n",
    "print(release_clause_counts)\n"
   ]
  },
  {
   "cell_type": "code",
   "execution_count": 260,
   "metadata": {},
   "outputs": [],
   "source": [
    "def convert_value(value):\n",
    "    if 'M' in value:\n",
    "        return float(value.replace('M', '')) * 1000000\n",
    "    elif \"K\" in value:\n",
    "        return float(value.replace('K', '')) * 1000\n",
    "    else:\n",
    "        return 0 "
   ]
  },
  {
   "cell_type": "markdown",
   "metadata": {},
   "source": [
    "Function to convert different value formats to a standard form"
   ]
  },
  {
   "cell_type": "code",
   "execution_count": 261,
   "metadata": {},
   "outputs": [],
   "source": [
    "columns_to_clean = ['Value', 'Wage', 'Release Clause']\n",
    "\n",
    "for column in columns_to_clean:\n",
    "    df[column] = df[column].replace('€', '', regex=True)\n"
   ]
  },
  {
   "cell_type": "markdown",
   "metadata": {},
   "source": [
    "Removing € From all columns"
   ]
  },
  {
   "cell_type": "code",
   "execution_count": 262,
   "metadata": {},
   "outputs": [],
   "source": [
    "columns_to_apply = ['Value', 'Wage', 'Release Clause']\n",
    "\n",
    "for column in columns_to_apply:\n",
    "    df[column] = df[column].apply(convert_value)"
   ]
  },
  {
   "cell_type": "markdown",
   "metadata": {},
   "source": [
    "Apply the value conversion function to selected columns"
   ]
  },
  {
   "cell_type": "code",
   "execution_count": 263,
   "metadata": {},
   "outputs": [],
   "source": [
    "columns_to_convert = ['Value', 'Wage', 'Release Clause']\n",
    "\n",
    "for column in columns_to_convert:\n",
    "    df[column] = df[column].astype(int)\n",
    "\n",
    "\n"
   ]
  },
  {
   "cell_type": "markdown",
   "metadata": {},
   "source": [
    "Convert the 'Value','Wage','Release Clause' column to integers"
   ]
  },
  {
   "cell_type": "code",
   "execution_count": 264,
   "metadata": {},
   "outputs": [
    {
     "name": "stdout",
     "output_type": "stream",
     "text": [
      "           Value    Wage  Release Clause\n",
      "0      103500000  560000       138400000\n",
      "1       63000000  220000        75900000\n",
      "2      120000000  125000       159400000\n",
      "3      129000000  370000       161000000\n",
      "4      132000000  270000       166500000\n",
      "...          ...     ...             ...\n",
      "18974     100000    1000           70000\n",
      "18975     130000       0          165000\n",
      "18976     120000       0          131000\n",
      "18977     100000    2000           88000\n",
      "18978     100000    1000           79000\n",
      "\n",
      "[18979 rows x 3 columns]\n"
     ]
    }
   ],
   "source": [
    "selected_columns = ['Value', 'Wage', 'Release Clause']\n",
    "print(df[selected_columns])\n"
   ]
  },
  {
   "cell_type": "markdown",
   "metadata": {},
   "source": [
    "_____________________________________________________________________________________________________________________________________________________________________________________________________________________________________________________"
   ]
  },
  {
   "cell_type": "markdown",
   "metadata": {},
   "source": [
    "# Q4 Some columns have 'star' characters. Strip those columns of these stars and make the columns numerical. "
   ]
  },
  {
   "cell_type": "code",
   "execution_count": 265,
   "metadata": {},
   "outputs": [
    {
     "data": {
      "text/plain": [
       "ID      Name            LongName                photoUrl                                          playerUrl                                                       Nationality  Age  ↓OVA  POT  Club                           Contract              Positions    Height  Weight  Preferred Foot  BOV  Best Position  Joined     Loan Date End  Value    Wage   Release Clause  Attacking  Crossing  Finishing  Heading Accuracy  Short Passing  Volleys  Skill  Dribbling  Curve  FK Accuracy  Long Passing  Ball Control  Movement  Acceleration  Sprint Speed  Agility  Reactions  Balance  Power  Shot Power  Jumping  Stamina  Strength  Long Shots  Mentality  Aggression  Interceptions  Positioning  Vision  Penalties  Composure  Defending  Marking  Standing Tackle  Sliding Tackle  Goalkeeping  GK Diving  GK Handling  GK Kicking  GK Positioning  GK Reflexes  Total Stats  Base Stats  W/F  SM  A/W     D/W     IR   PAC  SHO  PAS  DRI  DEF  PHY  Hits\n",
       "111590  L. Feeney       Liam Feeney             https://cdn.sofifa.com/players/111/590/21_60.png  http://sofifa.com/player/111590/liam-feeney/210006/             England      33   65    65   Tranmere Rovers                Jun 30, 2021 On Loan  RWB, RM      183     76      Right           66   RM             23-Aug-18  30-Jun-21      375000   3000   0               293        72        53         47                63             58       311    67         67     53           60            64            359       75            78            75       61         70       320    63          54       75       68        60          275        49          54             61           60      51         56         160        50       56               54              50           12         8            10          12              8            1768         382         3 ★  3★  High    Low     1 ★  77   57   63   67   53   65   6       1\n",
       "241406  J. Intriago     Jefferson Intriago      https://cdn.sofifa.com/players/241/406/21_60.png  http://sofifa.com/player/241406/jefferson-intriago/210006/      Ecuador      24   71    78   FC Juárez                      Jun 30, 2021 On Loan  CDM, CM, RM  175     69      Right           72   CDM            5-Jul-19   30-Jun-21      3500000  21000  0               262        65        30         64                72             31       337    72         63     58           72            72            353       73            71            72       67         70       350    65          68       89       71        57          326        72          65             63           63      63         65         196        67       65               64              42           5          12           9           7               9            1866         399         4 ★  3★  Medium  Medium  1 ★  72   46   68   72   65   76   14      1\n",
       "241040  T. Eyoma        Timothy Eyoma           https://cdn.sofifa.com/players/241/040/21_60.png  http://sofifa.com/player/241040/timothy-eyoma/210006/           England      20   61    76   Lincoln City                   Jun 30, 2021 On Loan  CB, RB       183     76      Right           63   CB             1-Jul-17   30-Jun-21      750000   8000   0               238        56        32         59                58             33       246    54         49     34           54            55            282       64            69            51       53         45       268    37          62       69       68        32          260        58          58             50           45      49         47         188        64       63               61              47           12         13           9           5               8            1529         337         3 ★  2★  Medium  High    1 ★  67   35   53   54   62   66   27      1\n",
       "241042  O. Skipp        Oliver Skipp            https://cdn.sofifa.com/players/241/042/21_60.png  http://sofifa.com/player/241042/oliver-skipp/210006/            England      19   68    84   Norwich City                   Jun 30, 2021 On Loan  CDM, CM      178     70      Right           69   CDM            16-Sep-17  30-Jun-21      3000000  13000  0               252        52        41         51                73             35       289    61         48     42           66            72            320       67            59            58       65         71       286    55          61       68       57        45          301        71          64             50           62      54         61         197        62       69               66              41           8          12           9           7               5            1686         363         3 ★  2★  Medium  High    1 ★  63   45   63   65   64   63   157     1\n",
       "241128  J. Mejías       Josua Mejías            https://cdn.sofifa.com/players/241/128/21_60.png  http://sofifa.com/player/241128/josua-mejias/210006/            Venezuela    22   62    72   Málaga CF                      Jun 30, 2021 On Loan  CB           185     78      Right           64   CB             2-Jul-18   30-Jun-21      825000   2000   0               195        26        20         70                55             24       152    25         25     28           26            48            297       63            67            52       60         55       223    32          65       53       57        16          202        54          62             26           28      32         58         191        66       63               62              41           11         6            11          8               5            1301         283         3 ★  2★  Medium  High    1 ★  65   23   37   38   64   56   6       1\n",
       "                                                                                                                                                                                                                                                                                                                                                                                                                                                                                                                                                                                                                                                                                                                                                                                                                                                                                                                                                                         ..\n",
       "227970  Wang Peng       Peng Wang               https://cdn.sofifa.com/players/227/970/21_60.png  http://sofifa.com/player/227970/peng-wang/210006/               China PR     27   59    62   Shijiazhuang Ever Bright F.C.  Dec 31, 2020 On Loan  CB, CDM, CM  185     70      Right           61   CB             10-Feb-19  31-Dec-20      250000   2000   0               243        43        45         60                53             42       250    49         48     46           55            52            318       69            65            63       50         71       303    55          55       73       66        54          261        65          56             46           50      44         58         179        58       61               60              57           15         10           8           16              8            1611         344         2 ★  2★  Medium  Medium  1 ★  67   49   50   52   59   67   2       1\n",
       "227990  Josep Señé      Josep Señé Escudero     https://cdn.sofifa.com/players/227/990/21_60.png  http://sofifa.com/player/227990/josep-sene-escudero/210006/     Spain        28   67    67   C.D. Castellón                 Jun 30, 2021 On Loan  CAM, CM, LM  183     72      Right           67   CAM            10-Jul-19  30-Jun-21      1000000  4000   0               305        64        64         61                70             46       322    67         63     60           66            66            320       61            69            62       69         59       267    48          53       43       58        65          302        46          56             69           70      61         61         140        35       49               56              60           14         16           7           13              10           1716         358         3 ★  3★  Medium  Medium  1 ★  65   60   67   66   48   52   5       1\n",
       "228321  Sergi Palencia  Sergi Palencia Hurtado  https://cdn.sofifa.com/players/228/321/21_60.png  http://sofifa.com/player/228321/sergi-palencia-hurtado/210006/  Spain        24   72    79   CD Leganés                     Jun 30, 2021 On Loan  RB           168     67      Right           73   RWB            5-Jul-19   30-Jun-21      4500000  17000  0               284        72        51         57                70             34       301    71         58     44           59            69            364       77            75            73       68         71       326    68          57       75       67        59          304        82          68             65           44      45         71         209        70       72               67              51           9          14           6           11              11           1839         405         3 ★  3★  Medium  Medium  1 ★  76   56   62   70   69   72   20      1\n",
       "228357  K. Soni         Kévin Soni              https://cdn.sofifa.com/players/228/357/21_60.png  http://sofifa.com/player/228357/kevin-soni/210006/              Cameroon     22   66    75   Villarreal CF                  Jun 30, 2021 On Loan  CAM, ST, LM  183     76      Left            68   ST             21-Jul-17  30-Jun-21      1900000  3000   0               302        57        64         64                60             57       302    72         57     48           55            70            364       78            77            75       63         71       316    58          70       64       72        52          270        57          32             65           63      53         59         129        50       42               37              44           8          12           7           8               9            1727         378         3 ★  3★  Medium  Medium  1 ★  77   60   59   71   44   67   16      1\n",
       "259116  A. Zohouri      Armel Zohouri           https://cdn.sofifa.com/players/259/116/21_60.png  http://sofifa.com/player/259116/armel-zohouri/210006/           Ivory Coast  19   58    70   FC Lausanne-Sport              Jun 30, 2021 On Loan  RB           176     69      Right           59   RWB            16-Sep-20  30-Jun-21      475000   2000   0               215        59        30         47                53             26       243    58         38     40           48            59            333       73            72            68       53         67       229    28          58       60       56        27          253        62          52             46           48      45         52         157        48       55               54              50           14         6            8           13              9            1480         322         3 ★  2★  Medium  Medium  1 ★  72   30   51   60   51   58   1       1\n",
       "Name: count, Length: 933, dtype: int64"
      ]
     },
     "execution_count": 265,
     "metadata": {},
     "output_type": "execute_result"
    }
   ],
   "source": [
    "df.value_counts()"
   ]
  },
  {
   "cell_type": "code",
   "execution_count": 266,
   "metadata": {},
   "outputs": [
    {
     "name": "stdout",
     "output_type": "stream",
     "text": [
      "Column 'W/F' has stars.\n",
      "Column 'SM' has stars.\n",
      "Column 'IR' has stars.\n"
     ]
    }
   ],
   "source": [
    "for column in df.columns:\n",
    "    has_star = any(df[column].astype(str).str.contains('★'))\n",
    "    if has_star:\n",
    "        print(f\"Column '{column}' has stars.\")"
   ]
  },
  {
   "cell_type": "markdown",
   "metadata": {},
   "source": [
    "Check for columns containing star characters"
   ]
  },
  {
   "cell_type": "code",
   "execution_count": 267,
   "metadata": {},
   "outputs": [],
   "source": [
    "columns_to_cle = ['W/F', 'SM', 'IR']\n",
    "\n",
    "for column in columns_to_cle:\n",
    "    df[column] = df[column].replace('★', '', regex=True)"
   ]
  },
  {
   "cell_type": "markdown",
   "metadata": {},
   "source": [
    "removing columns containing star."
   ]
  },
  {
   "cell_type": "code",
   "execution_count": 268,
   "metadata": {},
   "outputs": [
    {
     "name": "stdout",
     "output_type": "stream",
     "text": [
      "      W/F SM  IR\n",
      "0      4   4  5 \n",
      "1      4   5  5 \n",
      "2      3   1  3 \n",
      "3      5   4  4 \n",
      "4      5   5  5 \n",
      "...    .. ..  ..\n",
      "18974  2   2  1 \n",
      "18975  2   2  1 \n",
      "18976  2   2  1 \n",
      "18977  3   2  1 \n",
      "18978  3   2  1 \n",
      "\n",
      "[18979 rows x 3 columns]\n"
     ]
    }
   ],
   "source": [
    "selected_columns = ['W/F', 'SM', 'IR']\n",
    "print(df[selected_columns])"
   ]
  },
  {
   "cell_type": "markdown",
   "metadata": {},
   "source": [
    "_____________________________________________________________________________________________________________________________________________________________________________________________________________________________________________________"
   ]
  },
  {
   "cell_type": "markdown",
   "metadata": {},
   "source": [
    "# Q5 Remove further outliers from data and generate a summary report stating all the changes"
   ]
  },
  {
   "cell_type": "code",
   "execution_count": 269,
   "metadata": {},
   "outputs": [
    {
     "data": {
      "text/plain": [
       "ID      Name            LongName                photoUrl                                          playerUrl                                                       Nationality  Age  ↓OVA  POT  Club                           Contract              Positions    Height  Weight  Preferred Foot  BOV  Best Position  Joined     Loan Date End  Value    Wage   Release Clause  Attacking  Crossing  Finishing  Heading Accuracy  Short Passing  Volleys  Skill  Dribbling  Curve  FK Accuracy  Long Passing  Ball Control  Movement  Acceleration  Sprint Speed  Agility  Reactions  Balance  Power  Shot Power  Jumping  Stamina  Strength  Long Shots  Mentality  Aggression  Interceptions  Positioning  Vision  Penalties  Composure  Defending  Marking  Standing Tackle  Sliding Tackle  Goalkeeping  GK Diving  GK Handling  GK Kicking  GK Positioning  GK Reflexes  Total Stats  Base Stats  W/F  SM  A/W     D/W     IR  PAC  SHO  PAS  DRI  DEF  PHY  Hits\n",
       "111590  L. Feeney       Liam Feeney             https://cdn.sofifa.com/players/111/590/21_60.png  http://sofifa.com/player/111590/liam-feeney/210006/             England      33   65    65   Tranmere Rovers                Jun 30, 2021 On Loan  RWB, RM      183     76      Right           66   RM             23-Aug-18  30-Jun-21      375000   3000   0               293        72        53         47                63             58       311    67         67     53           60            64            359       75            78            75       61         70       320    63          54       75       68        60          275        49          54             61           60      51         56         160        50       56               54              50           12         8            10          12              8            1768         382         3    3   High    Low     1   77   57   63   67   53   65   6       1\n",
       "241406  J. Intriago     Jefferson Intriago      https://cdn.sofifa.com/players/241/406/21_60.png  http://sofifa.com/player/241406/jefferson-intriago/210006/      Ecuador      24   71    78   FC Juárez                      Jun 30, 2021 On Loan  CDM, CM, RM  175     69      Right           72   CDM            5-Jul-19   30-Jun-21      3500000  21000  0               262        65        30         64                72             31       337    72         63     58           72            72            353       73            71            72       67         70       350    65          68       89       71        57          326        72          65             63           63      63         65         196        67       65               64              42           5          12           9           7               9            1866         399         4    3   Medium  Medium  1   72   46   68   72   65   76   14      1\n",
       "241040  T. Eyoma        Timothy Eyoma           https://cdn.sofifa.com/players/241/040/21_60.png  http://sofifa.com/player/241040/timothy-eyoma/210006/           England      20   61    76   Lincoln City                   Jun 30, 2021 On Loan  CB, RB       183     76      Right           63   CB             1-Jul-17   30-Jun-21      750000   8000   0               238        56        32         59                58             33       246    54         49     34           54            55            282       64            69            51       53         45       268    37          62       69       68        32          260        58          58             50           45      49         47         188        64       63               61              47           12         13           9           5               8            1529         337         3    2   Medium  High    1   67   35   53   54   62   66   27      1\n",
       "241042  O. Skipp        Oliver Skipp            https://cdn.sofifa.com/players/241/042/21_60.png  http://sofifa.com/player/241042/oliver-skipp/210006/            England      19   68    84   Norwich City                   Jun 30, 2021 On Loan  CDM, CM      178     70      Right           69   CDM            16-Sep-17  30-Jun-21      3000000  13000  0               252        52        41         51                73             35       289    61         48     42           66            72            320       67            59            58       65         71       286    55          61       68       57        45          301        71          64             50           62      54         61         197        62       69               66              41           8          12           9           7               5            1686         363         3    2   Medium  High    1   63   45   63   65   64   63   157     1\n",
       "241128  J. Mejías       Josua Mejías            https://cdn.sofifa.com/players/241/128/21_60.png  http://sofifa.com/player/241128/josua-mejias/210006/            Venezuela    22   62    72   Málaga CF                      Jun 30, 2021 On Loan  CB           185     78      Right           64   CB             2-Jul-18   30-Jun-21      825000   2000   0               195        26        20         70                55             24       152    25         25     28           26            48            297       63            67            52       60         55       223    32          65       53       57        16          202        54          62             26           28      32         58         191        66       63               62              41           11         6            11          8               5            1301         283         3    2   Medium  High    1   65   23   37   38   64   56   6       1\n",
       "                                                                                                                                                                                                                                                                                                                                                                                                                                                                                                                                                                                                                                                                                                                                                                                                                                                                                                                                                                        ..\n",
       "227970  Wang Peng       Peng Wang               https://cdn.sofifa.com/players/227/970/21_60.png  http://sofifa.com/player/227970/peng-wang/210006/               China PR     27   59    62   Shijiazhuang Ever Bright F.C.  Dec 31, 2020 On Loan  CB, CDM, CM  185     70      Right           61   CB             10-Feb-19  31-Dec-20      250000   2000   0               243        43        45         60                53             42       250    49         48     46           55            52            318       69            65            63       50         71       303    55          55       73       66        54          261        65          56             46           50      44         58         179        58       61               60              57           15         10           8           16              8            1611         344         2    2   Medium  Medium  1   67   49   50   52   59   67   2       1\n",
       "227990  Josep Señé      Josep Señé Escudero     https://cdn.sofifa.com/players/227/990/21_60.png  http://sofifa.com/player/227990/josep-sene-escudero/210006/     Spain        28   67    67   C.D. Castellón                 Jun 30, 2021 On Loan  CAM, CM, LM  183     72      Right           67   CAM            10-Jul-19  30-Jun-21      1000000  4000   0               305        64        64         61                70             46       322    67         63     60           66            66            320       61            69            62       69         59       267    48          53       43       58        65          302        46          56             69           70      61         61         140        35       49               56              60           14         16           7           13              10           1716         358         3    3   Medium  Medium  1   65   60   67   66   48   52   5       1\n",
       "228321  Sergi Palencia  Sergi Palencia Hurtado  https://cdn.sofifa.com/players/228/321/21_60.png  http://sofifa.com/player/228321/sergi-palencia-hurtado/210006/  Spain        24   72    79   CD Leganés                     Jun 30, 2021 On Loan  RB           168     67      Right           73   RWB            5-Jul-19   30-Jun-21      4500000  17000  0               284        72        51         57                70             34       301    71         58     44           59            69            364       77            75            73       68         71       326    68          57       75       67        59          304        82          68             65           44      45         71         209        70       72               67              51           9          14           6           11              11           1839         405         3    3   Medium  Medium  1   76   56   62   70   69   72   20      1\n",
       "228357  K. Soni         Kévin Soni              https://cdn.sofifa.com/players/228/357/21_60.png  http://sofifa.com/player/228357/kevin-soni/210006/              Cameroon     22   66    75   Villarreal CF                  Jun 30, 2021 On Loan  CAM, ST, LM  183     76      Left            68   ST             21-Jul-17  30-Jun-21      1900000  3000   0               302        57        64         64                60             57       302    72         57     48           55            70            364       78            77            75       63         71       316    58          70       64       72        52          270        57          32             65           63      53         59         129        50       42               37              44           8          12           7           8               9            1727         378         3    3   Medium  Medium  1   77   60   59   71   44   67   16      1\n",
       "259116  A. Zohouri      Armel Zohouri           https://cdn.sofifa.com/players/259/116/21_60.png  http://sofifa.com/player/259116/armel-zohouri/210006/           Ivory Coast  19   58    70   FC Lausanne-Sport              Jun 30, 2021 On Loan  RB           176     69      Right           59   RWB            16-Sep-20  30-Jun-21      475000   2000   0               215        59        30         47                53             26       243    58         38     40           48            59            333       73            72            68       53         67       229    28          58       60       56        27          253        62          52             46           48      45         52         157        48       55               54              50           14         6            8           13              9            1480         322         3    2   Medium  Medium  1   72   30   51   60   51   58   1       1\n",
       "Name: count, Length: 933, dtype: int64"
      ]
     },
     "execution_count": 269,
     "metadata": {},
     "output_type": "execute_result"
    }
   ],
   "source": [
    "df.value_counts()"
   ]
  },
  {
   "cell_type": "code",
   "execution_count": 270,
   "metadata": {},
   "outputs": [
    {
     "name": "stdout",
     "output_type": "stream",
     "text": [
      "ID              0\n",
      "Name            0\n",
      "LongName        0\n",
      "photoUrl        0\n",
      "playerUrl       0\n",
      "             ... \n",
      "PAS             0\n",
      "DRI             0\n",
      "DEF             0\n",
      "PHY             0\n",
      "Hits         2595\n",
      "Length: 77, dtype: int64\n"
     ]
    }
   ],
   "source": [
    "print(df.isna().sum())"
   ]
  },
  {
   "cell_type": "markdown",
   "metadata": {},
   "source": [
    "Check for missing values in the DataFrame"
   ]
  },
  {
   "cell_type": "code",
   "execution_count": 271,
   "metadata": {},
   "outputs": [
    {
     "name": "stdout",
     "output_type": "stream",
     "text": [
      "ID           0\n",
      "Name         0\n",
      "LongName     0\n",
      "photoUrl     0\n",
      "playerUrl    0\n",
      "            ..\n",
      "PAS          0\n",
      "DRI          0\n",
      "DEF          0\n",
      "PHY          0\n",
      "Hits         0\n",
      "Length: 77, dtype: int64\n"
     ]
    }
   ],
   "source": [
    "df['Hits'] = df.Hits.fillna('0')\n",
    "print(df.isna().sum())"
   ]
  },
  {
   "cell_type": "markdown",
   "metadata": {},
   "source": [
    " Fill Null values in 'Hits' column with '0'"
   ]
  },
  {
   "cell_type": "code",
   "execution_count": 272,
   "metadata": {},
   "outputs": [
    {
     "data": {
      "text/plain": [
       "Hits\n",
       "0      2595\n",
       "1      2325\n",
       "2      2240\n",
       "3      1729\n",
       "4      1247\n",
       "       ... \n",
       "654       1\n",
       "186       1\n",
       "446       1\n",
       "3K        1\n",
       "6.0       1\n",
       "Name: count, Length: 451, dtype: int64"
      ]
     },
     "execution_count": 272,
     "metadata": {},
     "output_type": "execute_result"
    }
   ],
   "source": [
    "df.Hits.value_counts()"
   ]
  },
  {
   "cell_type": "markdown",
   "metadata": {},
   "source": [
    "Cheking for Unique values in Height"
   ]
  },
  {
   "cell_type": "code",
   "execution_count": 273,
   "metadata": {},
   "outputs": [],
   "source": [
    "def convert_hits(hits): \n",
    "    if isinstance(hits, float):\n",
    "        return hits  # If hits is already a float, return it as is\n",
    "    if 'K' in hits:\n",
    "        return float(hits.replace('K', '')) * 1000\n",
    "    else:\n",
    "        return hits"
   ]
  },
  {
   "cell_type": "markdown",
   "metadata": {},
   "source": [
    "Function to convert hits to a standard form"
   ]
  },
  {
   "cell_type": "code",
   "execution_count": 274,
   "metadata": {},
   "outputs": [
    {
     "name": "stdout",
     "output_type": "stream",
     "text": [
      "0    771\n",
      "1    562\n",
      "2    150\n",
      "3    207\n",
      "4    595\n",
      "Name: Hits, dtype: int32\n"
     ]
    }
   ],
   "source": [
    "df['Hits'] = df['Hits'].apply(convert_hits)\n",
    "df['Hits'] = df['Hits'].astype(int)\n",
    "print(df['Hits'].head())"
   ]
  },
  {
   "cell_type": "markdown",
   "metadata": {},
   "source": [
    "Applying Function to Hits column"
   ]
  },
  {
   "cell_type": "code",
   "execution_count": 275,
   "metadata": {},
   "outputs": [
    {
     "name": "stdout",
     "output_type": "stream",
     "text": [
      "<class 'pandas.core.frame.DataFrame'>\n",
      "RangeIndex: 18979 entries, 0 to 18978\n",
      "Data columns (total 77 columns):\n",
      " #   Column            Non-Null Count  Dtype \n",
      "---  ------            --------------  ----- \n",
      " 0   ID                18979 non-null  int64 \n",
      " 1   Name              18979 non-null  object\n",
      " 2   LongName          18979 non-null  object\n",
      " 3   photoUrl          18979 non-null  object\n",
      " 4   playerUrl         18979 non-null  object\n",
      " 5   Nationality       18979 non-null  object\n",
      " 6   Age               18979 non-null  int64 \n",
      " 7   ↓OVA              18979 non-null  int64 \n",
      " 8   POT               18979 non-null  int64 \n",
      " 9   Club              18979 non-null  object\n",
      " 10  Contract          18979 non-null  object\n",
      " 11  Positions         18979 non-null  object\n",
      " 12  Height            18979 non-null  int32 \n",
      " 13  Weight            18979 non-null  int32 \n",
      " 14  Preferred Foot    18979 non-null  object\n",
      " 15  BOV               18979 non-null  int64 \n",
      " 16  Best Position     18979 non-null  object\n",
      " 17  Joined            18979 non-null  object\n",
      " 18  Loan Date End     1013 non-null   object\n",
      " 19  Value             18979 non-null  int32 \n",
      " 20  Wage              18979 non-null  int32 \n",
      " 21  Release Clause    18979 non-null  int32 \n",
      " 22  Attacking         18979 non-null  int64 \n",
      " 23  Crossing          18979 non-null  int64 \n",
      " 24  Finishing         18979 non-null  int64 \n",
      " 25  Heading Accuracy  18979 non-null  int64 \n",
      " 26  Short Passing     18979 non-null  int64 \n",
      " 27  Volleys           18979 non-null  int64 \n",
      " 28  Skill             18979 non-null  int64 \n",
      " 29  Dribbling         18979 non-null  int64 \n",
      " 30  Curve             18979 non-null  int64 \n",
      " 31  FK Accuracy       18979 non-null  int64 \n",
      " 32  Long Passing      18979 non-null  int64 \n",
      " 33  Ball Control      18979 non-null  int64 \n",
      " 34  Movement          18979 non-null  int64 \n",
      " 35  Acceleration      18979 non-null  int64 \n",
      " 36  Sprint Speed      18979 non-null  int64 \n",
      " 37  Agility           18979 non-null  int64 \n",
      " 38  Reactions         18979 non-null  int64 \n",
      " 39  Balance           18979 non-null  int64 \n",
      " 40  Power             18979 non-null  int64 \n",
      " 41  Shot Power        18979 non-null  int64 \n",
      " 42  Jumping           18979 non-null  int64 \n",
      " 43  Stamina           18979 non-null  int64 \n",
      " 44  Strength          18979 non-null  int64 \n",
      " 45  Long Shots        18979 non-null  int64 \n",
      " 46  Mentality         18979 non-null  int64 \n",
      " 47  Aggression        18979 non-null  int64 \n",
      " 48  Interceptions     18979 non-null  int64 \n",
      " 49  Positioning       18979 non-null  int64 \n",
      " 50  Vision            18979 non-null  int64 \n",
      " 51  Penalties         18979 non-null  int64 \n",
      " 52  Composure         18979 non-null  int64 \n",
      " 53  Defending         18979 non-null  int64 \n",
      " 54  Marking           18979 non-null  int64 \n",
      " 55  Standing Tackle   18979 non-null  int64 \n",
      " 56  Sliding Tackle    18979 non-null  int64 \n",
      " 57  Goalkeeping       18979 non-null  int64 \n",
      " 58  GK Diving         18979 non-null  int64 \n",
      " 59  GK Handling       18979 non-null  int64 \n",
      " 60  GK Kicking        18979 non-null  int64 \n",
      " 61  GK Positioning    18979 non-null  int64 \n",
      " 62  GK Reflexes       18979 non-null  int64 \n",
      " 63  Total Stats       18979 non-null  int64 \n",
      " 64  Base Stats        18979 non-null  int64 \n",
      " 65  W/F               18979 non-null  object\n",
      " 66  SM                18979 non-null  object\n",
      " 67  A/W               18979 non-null  object\n",
      " 68  D/W               18979 non-null  object\n",
      " 69  IR                18979 non-null  object\n",
      " 70  PAC               18979 non-null  int64 \n",
      " 71  SHO               18979 non-null  int64 \n",
      " 72  PAS               18979 non-null  int64 \n",
      " 73  DRI               18979 non-null  int64 \n",
      " 74  DEF               18979 non-null  int64 \n",
      " 75  PHY               18979 non-null  int64 \n",
      " 76  Hits              18979 non-null  int32 \n",
      "dtypes: int32(6), int64(54), object(17)\n",
      "memory usage: 10.7+ MB\n"
     ]
    }
   ],
   "source": [
    "df.info()"
   ]
  },
  {
   "cell_type": "code",
   "execution_count": 276,
   "metadata": {},
   "outputs": [],
   "source": [
    "df = df.rename(columns={'LongName':'FullName'})\n",
    "df = df.rename(columns={'↓OVA':'OVA'})"
   ]
  },
  {
   "cell_type": "markdown",
   "metadata": {},
   "source": [
    " Renaming columns"
   ]
  },
  {
   "cell_type": "code",
   "execution_count": 277,
   "metadata": {},
   "outputs": [
    {
     "data": {
      "text/plain": [
       "array(['2004 ~ 2021', '2018 ~ 2022', '2014 ~ 2023', '2015 ~ 2023',\n",
       "       '2017 ~ 2022', '2017 ~ 2023', '2018 ~ 2024', '2014 ~ 2022',\n",
       "       '2018 ~ 2023', '2016 ~ 2023', '2013 ~ 2023', '2011 ~ 2023',\n",
       "       '2009 ~ 2022', '2005 ~ 2021', '2011 ~ 2021', '2015 ~ 2022',\n",
       "       '2017 ~ 2024', '2010 ~ 2024', '2012 ~ 2021', '2019 ~ 2024',\n",
       "       '2015 ~ 2024', '2017 ~ 2025', '2020 ~ 2025', '2019 ~ 2023',\n",
       "       '2008 ~ 2023', '2015 ~ 2021', '2020 ~ 2022', '2012 ~ 2022',\n",
       "       '2016 ~ 2025', '2013 ~ 2022', '2011 ~ 2022', '2012 ~ 2024',\n",
       "       '2016 ~ 2021', '2012 ~ 2023', '2008 ~ 2022', '2019 ~ 2022',\n",
       "       '2017 ~ 2021', '2013 ~ 2024', '2020 ~ 2024', '2010 ~ 2022',\n",
       "       '2020 ~ 2021', '2011 ~ 2024', '2020 ~ 2023', '2014 ~ 2024',\n",
       "       '2013 ~ 2026', '2016 ~ 2022', '2010 ~ 2021', '2013 ~ 2021',\n",
       "       '2019 ~ 2025', '2018 ~ 2025', '2016 ~ 2024', '2018 ~ 2021',\n",
       "       '2009 ~ 2024', '2007 ~ 2022', 'Jun 30, 2021 On Loan',\n",
       "       '2009 ~ 2021', '2019 ~ 2021', '2019 ~ 2026', 'Free', '2012 ~ 2028',\n",
       "       '2010 ~ 2023', '2014 ~ 2021', '2015 ~ 2025', '2014 ~ 2026',\n",
       "       '2012 ~ 2025', '2017 ~ 2020', '2002 ~ 2022', '2020 ~ 2027',\n",
       "       '2013 ~ 2025', 'Dec 31, 2020 On Loan', '2019 ~ 2020',\n",
       "       '2011 ~ 2025', '2016 ~ 2020', '2007 ~ 2021', '2020 ~ 2026',\n",
       "       '2010 ~ 2025', '2009 ~ 2023', '2008 ~ 2021', '2020 ~ 2020',\n",
       "       '2016 ~ 2026', 'Jan 30, 2021 On Loan', '2012 ~ 2020',\n",
       "       '2014 ~ 2025', 'Jun 30, 2022 On Loan', '2015 ~ 2020',\n",
       "       'May 31, 2021 On Loan', '2018 ~ 2020', '2014 ~ 2020',\n",
       "       '2013 ~ 2020', '2006 ~ 2024', 'Jul 5, 2021 On Loan',\n",
       "       'Dec 31, 2021 On Loan', '2004 ~ 2025', '2011 ~ 2020',\n",
       "       'Jul 1, 2021 On Loan', 'Jan 1, 2021 On Loan', '2006 ~ 2023',\n",
       "       'Aug 31, 2021 On Loan', '2006 ~ 2021', '2005 ~ 2023',\n",
       "       '2003 ~ 2020', '2009 ~ 2020', '2002 ~ 2020', '2005 ~ 2020',\n",
       "       '2005 ~ 2022', 'Jan 31, 2021 On Loan', '2010 ~ 2020',\n",
       "       'Dec 30, 2021 On Loan', '2008 ~ 2020', '2007 ~ 2020',\n",
       "       '2003 ~ 2021', 'Jun 23, 2021 On Loan', 'Jan 3, 2021 On Loan',\n",
       "       'Nov 27, 2021 On Loan', '2002 ~ 2021', 'Jan 17, 2021 On Loan',\n",
       "       'Jun 30, 2023 On Loan', '1998 ~ 2021', '2003 ~ 2022',\n",
       "       '2007 ~ 2023', 'Jul 31, 2021 On Loan', 'Nov 22, 2020 On Loan',\n",
       "       'May 31, 2022 On Loan', '2006 ~ 2020', 'Dec 30, 2020 On Loan',\n",
       "       '2007 ~ 2025', 'Jan 4, 2021 On Loan', 'Nov 30, 2020 On Loan',\n",
       "       '2004 ~ 2020', '2009 ~ 2025', 'Aug 1, 2021 On Loan'], dtype=object)"
      ]
     },
     "execution_count": 277,
     "metadata": {},
     "output_type": "execute_result"
    }
   ],
   "source": [
    "df.Contract.unique()"
   ]
  },
  {
   "cell_type": "code",
   "execution_count": 278,
   "metadata": {},
   "outputs": [],
   "source": [
    "def calculate_contract_years(contract):\n",
    "    if 'On Loan' in contract or contract == 'Free':\n",
    "        return 0  # For loaned or free players\n",
    "    elif '~' in contract:\n",
    "        start_year, end_year = contract.split(' ~ ')\n",
    "        return int(end_year) - int(start_year)\n",
    "    else:\n",
    "        return 0  # For other cases"
   ]
  },
  {
   "cell_type": "markdown",
   "metadata": {},
   "source": [
    " Function to calculate contract duration in years"
   ]
  },
  {
   "cell_type": "code",
   "execution_count": 279,
   "metadata": {},
   "outputs": [],
   "source": [
    "df['Contract Duration'] = df.Contract.apply(calculate_contract_years)"
   ]
  },
  {
   "cell_type": "markdown",
   "metadata": {},
   "source": [
    "Apply the contract duration calculation function to the 'Contract' column"
   ]
  },
  {
   "cell_type": "code",
   "execution_count": 280,
   "metadata": {},
   "outputs": [
    {
     "name": "stdout",
     "output_type": "stream",
     "text": [
      "<class 'pandas.core.frame.DataFrame'>\n",
      "RangeIndex: 18979 entries, 0 to 18978\n",
      "Data columns (total 78 columns):\n",
      " #   Column             Non-Null Count  Dtype \n",
      "---  ------             --------------  ----- \n",
      " 0   ID                 18979 non-null  int64 \n",
      " 1   Name               18979 non-null  object\n",
      " 2   FullName           18979 non-null  object\n",
      " 3   photoUrl           18979 non-null  object\n",
      " 4   playerUrl          18979 non-null  object\n",
      " 5   Nationality        18979 non-null  object\n",
      " 6   Age                18979 non-null  int64 \n",
      " 7   OVA                18979 non-null  int64 \n",
      " 8   POT                18979 non-null  int64 \n",
      " 9   Club               18979 non-null  object\n",
      " 10  Contract           18979 non-null  object\n",
      " 11  Positions          18979 non-null  object\n",
      " 12  Height             18979 non-null  int32 \n",
      " 13  Weight             18979 non-null  int32 \n",
      " 14  Preferred Foot     18979 non-null  object\n",
      " 15  BOV                18979 non-null  int64 \n",
      " 16  Best Position      18979 non-null  object\n",
      " 17  Joined             18979 non-null  object\n",
      " 18  Loan Date End      1013 non-null   object\n",
      " 19  Value              18979 non-null  int32 \n",
      " 20  Wage               18979 non-null  int32 \n",
      " 21  Release Clause     18979 non-null  int32 \n",
      " 22  Attacking          18979 non-null  int64 \n",
      " 23  Crossing           18979 non-null  int64 \n",
      " 24  Finishing          18979 non-null  int64 \n",
      " 25  Heading Accuracy   18979 non-null  int64 \n",
      " 26  Short Passing      18979 non-null  int64 \n",
      " 27  Volleys            18979 non-null  int64 \n",
      " 28  Skill              18979 non-null  int64 \n",
      " 29  Dribbling          18979 non-null  int64 \n",
      " 30  Curve              18979 non-null  int64 \n",
      " 31  FK Accuracy        18979 non-null  int64 \n",
      " 32  Long Passing       18979 non-null  int64 \n",
      " 33  Ball Control       18979 non-null  int64 \n",
      " 34  Movement           18979 non-null  int64 \n",
      " 35  Acceleration       18979 non-null  int64 \n",
      " 36  Sprint Speed       18979 non-null  int64 \n",
      " 37  Agility            18979 non-null  int64 \n",
      " 38  Reactions          18979 non-null  int64 \n",
      " 39  Balance            18979 non-null  int64 \n",
      " 40  Power              18979 non-null  int64 \n",
      " 41  Shot Power         18979 non-null  int64 \n",
      " 42  Jumping            18979 non-null  int64 \n",
      " 43  Stamina            18979 non-null  int64 \n",
      " 44  Strength           18979 non-null  int64 \n",
      " 45  Long Shots         18979 non-null  int64 \n",
      " 46  Mentality          18979 non-null  int64 \n",
      " 47  Aggression         18979 non-null  int64 \n",
      " 48  Interceptions      18979 non-null  int64 \n",
      " 49  Positioning        18979 non-null  int64 \n",
      " 50  Vision             18979 non-null  int64 \n",
      " 51  Penalties          18979 non-null  int64 \n",
      " 52  Composure          18979 non-null  int64 \n",
      " 53  Defending          18979 non-null  int64 \n",
      " 54  Marking            18979 non-null  int64 \n",
      " 55  Standing Tackle    18979 non-null  int64 \n",
      " 56  Sliding Tackle     18979 non-null  int64 \n",
      " 57  Goalkeeping        18979 non-null  int64 \n",
      " 58  GK Diving          18979 non-null  int64 \n",
      " 59  GK Handling        18979 non-null  int64 \n",
      " 60  GK Kicking         18979 non-null  int64 \n",
      " 61  GK Positioning     18979 non-null  int64 \n",
      " 62  GK Reflexes        18979 non-null  int64 \n",
      " 63  Total Stats        18979 non-null  int64 \n",
      " 64  Base Stats         18979 non-null  int64 \n",
      " 65  W/F                18979 non-null  object\n",
      " 66  SM                 18979 non-null  object\n",
      " 67  A/W                18979 non-null  object\n",
      " 68  D/W                18979 non-null  object\n",
      " 69  IR                 18979 non-null  object\n",
      " 70  PAC                18979 non-null  int64 \n",
      " 71  SHO                18979 non-null  int64 \n",
      " 72  PAS                18979 non-null  int64 \n",
      " 73  DRI                18979 non-null  int64 \n",
      " 74  DEF                18979 non-null  int64 \n",
      " 75  PHY                18979 non-null  int64 \n",
      " 76  Hits               18979 non-null  int32 \n",
      " 77  Contract Duration  18979 non-null  int64 \n",
      "dtypes: int32(6), int64(55), object(17)\n",
      "memory usage: 10.9+ MB\n"
     ]
    }
   ],
   "source": [
    "df.info()"
   ]
  },
  {
   "cell_type": "code",
   "execution_count": 281,
   "metadata": {},
   "outputs": [
    {
     "name": "stdout",
     "output_type": "stream",
     "text": [
      "   Contract Duration\n",
      "0                 17\n",
      "1                  4\n",
      "2                  9\n",
      "3                  8\n",
      "4                  5\n"
     ]
    }
   ],
   "source": [
    "print(df[['Contract Duration']].head())"
   ]
  },
  {
   "cell_type": "code",
   "execution_count": 282,
   "metadata": {},
   "outputs": [],
   "source": [
    "df = df.drop_duplicates()"
   ]
  },
  {
   "cell_type": "markdown",
   "metadata": {},
   "source": [
    " Drop duplicate rows from the DataFrame"
   ]
  },
  {
   "cell_type": "code",
   "execution_count": 283,
   "metadata": {},
   "outputs": [],
   "source": [
    "df.to_csv('D:/BI final/FIFA 21 FINAL.csv', index=False)\n"
   ]
  },
  {
   "cell_type": "markdown",
   "metadata": {},
   "source": [
    "Export the entire DataFrame to a CSV file"
   ]
  }
 ],
 "metadata": {
  "kernelspec": {
   "display_name": "Python 3",
   "language": "python",
   "name": "python3"
  },
  "language_info": {
   "codemirror_mode": {
    "name": "ipython",
    "version": 3
   },
   "file_extension": ".py",
   "mimetype": "text/x-python",
   "name": "python",
   "nbconvert_exporter": "python",
   "pygments_lexer": "ipython3",
   "version": "3.12.0"
  }
 },
 "nbformat": 4,
 "nbformat_minor": 2
}
